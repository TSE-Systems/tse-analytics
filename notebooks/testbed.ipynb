{
 "cells": [
  {
   "cell_type": "code",
   "execution_count": 1,
   "id": "ae510177-fc55-4436-a59d-e56cee64ec47",
   "metadata": {},
   "outputs": [],
   "source": [
    "import pickle\n",
    "\n",
    "import ipywidgets as widgets\n",
    "import pandas as pd\n",
    "import pingouin as pg\n",
    "\n",
    "from tse_datatools.data.workspace import Workspace\n",
    "from tse_analytics.data.data_hub import DataHub\n",
    "from tse_analytics.messaging.messenger import Messenger"
   ]
  },
  {
   "cell_type": "markdown",
   "id": "db44f9d6-1bba-4257-bcd7-1196e5fcfc4e",
   "metadata": {},
   "source": [
    "## Initialization"
   ]
  },
  {
   "cell_type": "code",
   "execution_count": 2,
   "id": "722eccd5-935d-4d7d-a373-e589769e433b",
   "metadata": {},
   "outputs": [],
   "source": [
    "messenger = Messenger()\n",
    "data_hub = DataHub(messenger)"
   ]
  },
  {
   "cell_type": "markdown",
   "id": "cf9ec174-0ec4-4d97-a1d4-79ab52e713ad",
   "metadata": {},
   "source": [
    "## Load TSE Analytics workspace"
   ]
  },
  {
   "cell_type": "code",
   "execution_count": 3,
   "id": "156e2f25-6076-4290-a6d1-9a9213697a68",
   "metadata": {},
   "outputs": [],
   "source": [
    "path = r\"C:\\Users\\anton\\OneDrive - TSE Systems, Inc\\Desktop\\Merged.workspace\"\n",
    "\n",
    "with open(path, \"rb\") as file:\n",
    "    workspace = pickle.load(file)"
   ]
  },
  {
   "cell_type": "markdown",
   "id": "008834c9-2366-4a96-aa8a-aca02029ce7c",
   "metadata": {},
   "source": [
    "## List available datasets"
   ]
  },
  {
   "cell_type": "code",
   "execution_count": 4,
   "id": "bcdaf953-9de3-4a05-822b-5cd49a0c2c5e",
   "metadata": {},
   "outputs": [
    {
     "data": {
      "application/vnd.jupyter.widget-view+json": {
       "model_id": "86c4901ed20e40e89b7c04a6e586c5b8",
       "version_major": 2,
       "version_minor": 0
      },
      "text/plain": [
       "Select(description='Datasets:', layout=Layout(height='150px'), options=('calo_#38197_20230113_lot1', 'calo_#38…"
      ]
     },
     "metadata": {},
     "output_type": "display_data"
    }
   ],
   "source": [
    "datasets_widget = widgets.Select(\n",
    "    options=[dataset.name for dataset in workspace.datasets],\n",
    "    description='Datasets:',\n",
    "    layout=widgets.Layout(height='150px'),\n",
    ")\n",
    "display(datasets_widget)"
   ]
  },
  {
   "cell_type": "markdown",
   "id": "c15c430d-1564-464f-abdc-27f751d84514",
   "metadata": {},
   "source": [
    "## Select active dataset"
   ]
  },
  {
   "cell_type": "code",
   "execution_count": 10,
   "id": "4e519c9f-bea4-43ec-8d5c-aa851a801d87",
   "metadata": {},
   "outputs": [
    {
     "name": "stdout",
     "output_type": "stream",
     "text": [
      "<class 'pandas.core.frame.DataFrame'>\n",
      "RangeIndex: 90000 entries, 0 to 89999\n",
      "Data columns (total 53 columns):\n",
      " #   Column     Non-Null Count  Dtype          \n",
      "---  ------     --------------  -----          \n",
      " 0   DateTime   90000 non-null  datetime64[ns] \n",
      " 1   Timedelta  90000 non-null  timedelta64[ns]\n",
      " 2   Bin        90000 non-null  category       \n",
      " 3   Animal     90000 non-null  category       \n",
      " 4   Box        90000 non-null  category       \n",
      " 5   Run        90000 non-null  category       \n",
      " 6   TempL      90000 non-null  float64        \n",
      " 7   HumL       90000 non-null  float64        \n",
      " 8   LightL     90000 non-null  float64        \n",
      " 9   PressL     90000 non-null  int64          \n",
      " 10  CO2L       90000 non-null  int64          \n",
      " 11  NoiseL     90000 non-null  int64          \n",
      " 12  MotionL    90000 non-null  int64          \n",
      " 13  Ref.SFlow  90000 non-null  float64        \n",
      " 14  Ref.O2     90000 non-null  float64        \n",
      " 15  Ref.CO2    90000 non-null  float64        \n",
      " 16  Flow       90000 non-null  float64        \n",
      " 17  S.Flow     90000 non-null  float64        \n",
      " 18  Temp       90000 non-null  float64        \n",
      " 19  O2         82187 non-null  float64        \n",
      " 20  CO2        82187 non-null  float64        \n",
      " 21  dO2        82187 non-null  float64        \n",
      " 22  dCO2       82187 non-null  float64        \n",
      " 23  VO2(1)     82187 non-null  float64        \n",
      " 24  VO2(2)     82187 non-null  float64        \n",
      " 25  VO2(3)     82187 non-null  float64        \n",
      " 26  VCO2(1)    82187 non-null  float64        \n",
      " 27  VCO2(2)    82187 non-null  float64        \n",
      " 28  VCO2(3)    82187 non-null  float64        \n",
      " 29  RER        82184 non-null  float64        \n",
      " 30  H(1)       82187 non-null  float64        \n",
      " 31  H(2)       82187 non-null  float64        \n",
      " 32  H(3)       82187 non-null  float64        \n",
      " 33  XT+YT      90000 non-null  int64          \n",
      " 34  XT         90000 non-null  int64          \n",
      " 35  XA         90000 non-null  int64          \n",
      " 36  XF         90000 non-null  int64          \n",
      " 37  YT         90000 non-null  int64          \n",
      " 38  YA         90000 non-null  int64          \n",
      " 39  YF         90000 non-null  int64          \n",
      " 40  CenT       90000 non-null  int64          \n",
      " 41  CenA       90000 non-null  int64          \n",
      " 42  CenF       90000 non-null  int64          \n",
      " 43  PerT       90000 non-null  int64          \n",
      " 44  PerA       90000 non-null  int64          \n",
      " 45  PerF       90000 non-null  int64          \n",
      " 46  DistK      90000 non-null  int64          \n",
      " 47  DistD      90000 non-null  int64          \n",
      " 48  Speed      90000 non-null  int64          \n",
      " 49  Drink      90000 non-null  float64        \n",
      " 50  Feed       90000 non-null  float64        \n",
      " 51  DrinkK     90000 non-null  float64        \n",
      " 52  FeedK      90000 non-null  float64        \n",
      "dtypes: category(4), datetime64[ns](1), float64(27), int64(20), timedelta64[ns](1)\n",
      "memory usage: 34.1 MB\n"
     ]
    }
   ],
   "source": [
    "for d in workspace.datasets:\n",
    "    if d.name == datasets_widget.value:\n",
    "        dataset = d\n",
    "\n",
    "dataset.original_df.info()\n",
    "\n",
    "data_hub.set_selected_dataset(dataset)"
   ]
  },
  {
   "cell_type": "code",
   "execution_count": 11,
   "id": "9b0e0fd8-c8ca-4971-9ffa-953947686ac6",
   "metadata": {},
   "outputs": [
    {
     "data": {
      "application/vnd.jupyter.widget-view+json": {
       "model_id": "9a4fbd138fb644098c8c7edb2b5a6f4a",
       "version_major": 2,
       "version_minor": 0
      },
      "text/plain": [
       "SelectMultiple(description='Animals:', layout=Layout(height='300px'), options=(1, 7, 2, 8, 3, 5, 4, 6, 15, 9, …"
      ]
     },
     "metadata": {},
     "output_type": "display_data"
    }
   ],
   "source": [
    "animals_widget = widgets.SelectMultiple(\n",
    "    options=[animal.id for animal in dataset.animals.values()],\n",
    "    description='Animals:',\n",
    "    layout=widgets.Layout(height='300px'),\n",
    ")\n",
    "display(animals_widget)"
   ]
  },
  {
   "cell_type": "code",
   "execution_count": 12,
   "id": "c560ebf8-8096-4d58-8b73-3e19b8cf4368",
   "metadata": {},
   "outputs": [],
   "source": [
    "selected_animals = [animal for animal in dataset.animals.values() if animal.id in animals_widget.value]\n",
    "data_hub.set_selected_animals(selected_animals)"
   ]
  },
  {
   "cell_type": "code",
   "execution_count": 13,
   "id": "bc676fa2-9a8f-460b-a423-218c721767b8",
   "metadata": {},
   "outputs": [
    {
     "data": {
      "application/vnd.jupyter.widget-view+json": {
       "model_id": "4c6baf42358c4173819dfff27f23afae",
       "version_major": 2,
       "version_minor": 0
      },
      "text/plain": [
       "Select(description='Factors:', options=('f1', 'f2', 'sex'), value='f1')"
      ]
     },
     "metadata": {},
     "output_type": "display_data"
    }
   ],
   "source": [
    "factors_widget = widgets.Select(\n",
    "    options=[factor.name for factor in dataset.factors.values()],\n",
    "    description='Factors:',\n",
    ")\n",
    "display(factors_widget)"
   ]
  },
  {
   "cell_type": "code",
   "execution_count": 14,
   "id": "8355db0a-2cfe-4480-af2f-e7ba2ff439ee",
   "metadata": {},
   "outputs": [],
   "source": [
    "selected_factor = dataset.factors[factors_widget.value]\n",
    "data_hub.set_selected_factor(selected_factor)"
   ]
  },
  {
   "cell_type": "code",
   "execution_count": 15,
   "id": "c068cae9-ed60-4e9c-a7b6-308da7a87873",
   "metadata": {},
   "outputs": [
    {
     "data": {
      "application/vnd.jupyter.widget-view+json": {
       "model_id": "d780eb7413d342cb86d54e797234a6eb",
       "version_major": 2,
       "version_minor": 0
      },
      "text/plain": [
       "Dropdown(description='Variable:', options=('CenA', 'CenF', 'CenT', 'CO2', 'CO2L', 'dCO2', 'DistD', 'DistK', 'd…"
      ]
     },
     "metadata": {},
     "output_type": "display_data"
    }
   ],
   "source": [
    "variable_widget = widgets.Dropdown(\n",
    "    options=[variable.name for variable in dataset.variables.values()],\n",
    "    description='Variable:',\n",
    ")\n",
    "display(variable_widget)"
   ]
  },
  {
   "cell_type": "code",
   "execution_count": 16,
   "id": "245d40f9-f02e-4f6d-856a-803d84e5eabf",
   "metadata": {},
   "outputs": [
    {
     "name": "stdout",
     "output_type": "stream",
     "text": [
      "   Source           SS     DF         MS            F  p-unc       np2\n",
      "0      f1    27.478678      1  27.478678  2198.695006    0.0  0.026057\n",
      "1  Within  1027.087742  82182   0.012498          NaN    NaN       NaN\n"
     ]
    }
   ],
   "source": [
    "selected_variable = variable_widget.value\n",
    "df = data_hub.get_current_df(calculate_error=False, variables=[selected_variable])\n",
    "anova = pg.anova(data=df, dv=selected_variable, between=selected_factor.name, detailed=True)\n",
    "print(anova)"
   ]
  },
  {
   "cell_type": "code",
   "execution_count": null,
   "id": "9927919e-d721-4a7d-93da-a9d7d1128af4",
   "metadata": {},
   "outputs": [],
   "source": []
  }
 ],
 "metadata": {
  "kernelspec": {
   "display_name": "Python 3 (ipykernel)",
   "language": "python",
   "name": "python3"
  },
  "language_info": {
   "codemirror_mode": {
    "name": "ipython",
    "version": 3
   },
   "file_extension": ".py",
   "mimetype": "text/x-python",
   "name": "python",
   "nbconvert_exporter": "python",
   "pygments_lexer": "ipython3",
   "version": "3.11.6"
  }
 },
 "nbformat": 4,
 "nbformat_minor": 5
}
